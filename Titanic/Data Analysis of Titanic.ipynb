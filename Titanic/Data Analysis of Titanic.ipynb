{
 "cells": [
  {
   "cell_type": "code",
   "execution_count": 19,
   "metadata": {
    "collapsed": true
   },
   "outputs": [],
   "source": [
    "%matplotlib inline\n",
    "import matplotlib.pyplot as pyplot\n",
    "import numpy as np\n",
    "import csv"
   ]
  },
  {
   "cell_type": "code",
   "execution_count": 139,
   "metadata": {
    "scrolled": true
   },
   "outputs": [
    {
     "data": {
      "text/plain": [
       "(1, 3, 'female',  15., 1, 0,  14.4542, 'C')"
      ]
     },
     "execution_count": 139,
     "metadata": {},
     "output_type": "execute_result"
    }
   ],
   "source": [
    "dataType=np.dtype({'names':['survived','pclass','sex','age','sibsp','parch','fare','embarked'],\n",
    "                   'formats':['i1','i1','U6','f8','i1','i1','f8','U1']})\n",
    "data = np.genfromtxt('train.txt',delimiter=',',\n",
    "                     skip_header=1,\n",
    "                     missing_values='',\n",
    "                     usemask=False,\n",
    "                     filling_values=None,\n",
    "                     usecols=(1,2,5,6,7,8,10,12),\n",
    "                     dtype=dataType)\n",
    "data[830]"
   ]
  }
 ],
 "metadata": {
  "kernelspec": {
   "display_name": "Python 3",
   "language": "python",
   "name": "python3"
  },
  "language_info": {
   "codemirror_mode": {
    "name": "ipython",
    "version": 3
   },
   "file_extension": ".py",
   "mimetype": "text/x-python",
   "name": "python",
   "nbconvert_exporter": "python",
   "pygments_lexer": "ipython3",
   "version": "3.6.1"
  }
 },
 "nbformat": 4,
 "nbformat_minor": 2
}
